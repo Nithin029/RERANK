{
  "nbformat": 4,
  "nbformat_minor": 0,
  "metadata": {
    "colab": {
      "provenance": []
    },
    "kernelspec": {
      "name": "python3",
      "display_name": "Python 3"
    },
    "language_info": {
      "name": "python"
    }
  },
  "cells": [
    {
      "cell_type": "code",
      "execution_count": null,
      "metadata": {
        "id": "s-vfjlWjKl0E",
        "colab": {
          "base_uri": "https://localhost:8080/"
        },
        "outputId": "4d0d61cb-2412-4f50-f618-0a05e77e2445",
        "collapsed": true
      },
      "outputs": [
        {
          "output_type": "stream",
          "name": "stdout",
          "text": [
            "\u001b[2K     \u001b[90m━━━━━━━━━━━━━━━━━━━━━━━━━━━━━━━━━━━━━━━━\u001b[0m \u001b[32m252.7/252.7 kB\u001b[0m \u001b[31m3.7 MB/s\u001b[0m eta \u001b[36m0:00:00\u001b[0m\n",
            "\u001b[2K     \u001b[90m━━━━━━━━━━━━━━━━━━━━━━━━━━━━━━━━━━━━━━━━\u001b[0m \u001b[32m817.7/817.7 kB\u001b[0m \u001b[31m9.6 MB/s\u001b[0m eta \u001b[36m0:00:00\u001b[0m\n",
            "\u001b[2K     \u001b[90m━━━━━━━━━━━━━━━━━━━━━━━━━━━━━━━━━━━━━━━━\u001b[0m \u001b[32m45.5/45.5 kB\u001b[0m \u001b[31m2.8 MB/s\u001b[0m eta \u001b[36m0:00:00\u001b[0m\n",
            "\u001b[2K     \u001b[90m━━━━━━━━━━━━━━━━━━━━━━━━━━━━━━━━━━━━━━━━\u001b[0m \u001b[32m147.6/147.6 kB\u001b[0m \u001b[31m7.2 MB/s\u001b[0m eta \u001b[36m0:00:00\u001b[0m\n",
            "\u001b[2K     \u001b[90m━━━━━━━━━━━━━━━━━━━━━━━━━━━━━━━━━━━━━━━━\u001b[0m \u001b[32m296.7/296.7 kB\u001b[0m \u001b[31m11.2 MB/s\u001b[0m eta \u001b[36m0:00:00\u001b[0m\n",
            "\u001b[2K     \u001b[90m━━━━━━━━━━━━━━━━━━━━━━━━━━━━━━━━━━━━━━━━\u001b[0m \u001b[32m292.8/292.8 kB\u001b[0m \u001b[31m9.7 MB/s\u001b[0m eta \u001b[36m0:00:00\u001b[0m\n",
            "\u001b[2K     \u001b[90m━━━━━━━━━━━━━━━━━━━━━━━━━━━━━━━━━━━━━━━━\u001b[0m \u001b[32m1.8/1.8 MB\u001b[0m \u001b[31m17.2 MB/s\u001b[0m eta \u001b[36m0:00:00\u001b[0m\n",
            "\u001b[2K     \u001b[90m━━━━━━━━━━━━━━━━━━━━━━━━━━━━━━━━━━━━━━━━\u001b[0m \u001b[32m1.9/1.9 MB\u001b[0m \u001b[31m23.8 MB/s\u001b[0m eta \u001b[36m0:00:00\u001b[0m\n",
            "\u001b[2K     \u001b[90m━━━━━━━━━━━━━━━━━━━━━━━━━━━━━━━━━━━━━━━━\u001b[0m \u001b[32m289.1/289.1 kB\u001b[0m \u001b[31m23.0 MB/s\u001b[0m eta \u001b[36m0:00:00\u001b[0m\n",
            "\u001b[2K     \u001b[90m━━━━━━━━━━━━━━━━━━━━━━━━━━━━━━━━━━━━━━━━\u001b[0m \u001b[32m113.7/113.7 kB\u001b[0m \u001b[31m6.0 MB/s\u001b[0m eta \u001b[36m0:00:00\u001b[0m\n",
            "\u001b[2K     \u001b[90m━━━━━━━━━━━━━━━━━━━━━━━━━━━━━━━━━━━━━━━━\u001b[0m \u001b[32m49.4/49.4 kB\u001b[0m \u001b[31m1.7 MB/s\u001b[0m eta \u001b[36m0:00:00\u001b[0m\n",
            "\u001b[2K     \u001b[90m━━━━━━━━━━━━━━━━━━━━━━━━━━━━━━━━━━━━━━━━\u001b[0m \u001b[32m53.0/53.0 kB\u001b[0m \u001b[31m850.5 kB/s\u001b[0m eta \u001b[36m0:00:00\u001b[0m\n",
            "\u001b[2K     \u001b[90m━━━━━━━━━━━━━━━━━━━━━━━━━━━━━━━━━━━━━━━━\u001b[0m \u001b[32m141.1/141.1 kB\u001b[0m \u001b[31m1.5 MB/s\u001b[0m eta \u001b[36m0:00:00\u001b[0m\n",
            "\u001b[2K     \u001b[90m━━━━━━━━━━━━━━━━━━━━━━━━━━━━━━━━━━━━━━━━\u001b[0m \u001b[32m75.6/75.6 kB\u001b[0m \u001b[31m1.9 MB/s\u001b[0m eta \u001b[36m0:00:00\u001b[0m\n",
            "\u001b[2K     \u001b[90m━━━━━━━━━━━━━━━━━━━━━━━━━━━━━━━━━━━━━━━━\u001b[0m \u001b[32m77.9/77.9 kB\u001b[0m \u001b[31m6.4 MB/s\u001b[0m eta \u001b[36m0:00:00\u001b[0m\n",
            "\u001b[2K     \u001b[90m━━━━━━━━━━━━━━━━━━━━━━━━━━━━━━━━━━━━━━━━\u001b[0m \u001b[32m58.3/58.3 kB\u001b[0m \u001b[31m5.3 MB/s\u001b[0m eta \u001b[36m0:00:00\u001b[0m\n",
            "\u001b[?25h"
          ]
        }
      ],
      "source": [
        "!pip install \"pyautogen>=0.2.3\" Langchain -q"
      ]
    },
    {
      "cell_type": "code",
      "source": [
        "!pip install --upgrade --quiet  cohere\n",
        "!pip install chromadb  -q"
      ],
      "metadata": {
        "id": "VldmEZXyKqCj",
        "colab": {
          "base_uri": "https://localhost:8080/"
        },
        "outputId": "3e8514b7-ead2-4456-ff1e-2e8e493d94f1",
        "collapsed": true
      },
      "execution_count": null,
      "outputs": [
        {
          "output_type": "stream",
          "name": "stdout",
          "text": [
            "\u001b[2K     \u001b[90m━━━━━━━━━━━━━━━━━━━━━━━━━━━━━━━━━━━━━━━━\u001b[0m \u001b[32m150.7/150.7 kB\u001b[0m \u001b[31m3.9 MB/s\u001b[0m eta \u001b[36m0:00:00\u001b[0m\n",
            "\u001b[2K     \u001b[90m━━━━━━━━━━━━━━━━━━━━━━━━━━━━━━━━━━━━━━━━\u001b[0m \u001b[32m3.1/3.1 MB\u001b[0m \u001b[31m15.8 MB/s\u001b[0m eta \u001b[36m0:00:00\u001b[0m\n",
            "\u001b[2K     \u001b[90m━━━━━━━━━━━━━━━━━━━━━━━━━━━━━━━━━━━━━━━━\u001b[0m \u001b[32m525.5/525.5 kB\u001b[0m \u001b[31m7.8 MB/s\u001b[0m eta \u001b[36m0:00:00\u001b[0m\n",
            "\u001b[2K     \u001b[90m━━━━━━━━━━━━━━━━━━━━━━━━━━━━━━━━━━━━━━━━\u001b[0m \u001b[32m2.4/2.4 MB\u001b[0m \u001b[31m15.6 MB/s\u001b[0m eta \u001b[36m0:00:00\u001b[0m\n",
            "\u001b[2K     \u001b[90m━━━━━━━━━━━━━━━━━━━━━━━━━━━━━━━━━━━━━━━━\u001b[0m \u001b[32m91.9/91.9 kB\u001b[0m \u001b[31m9.1 MB/s\u001b[0m eta \u001b[36m0:00:00\u001b[0m\n",
            "\u001b[2K     \u001b[90m━━━━━━━━━━━━━━━━━━━━━━━━━━━━━━━━━━━━━━━━\u001b[0m \u001b[32m60.8/60.8 kB\u001b[0m \u001b[31m6.1 MB/s\u001b[0m eta \u001b[36m0:00:00\u001b[0m\n",
            "\u001b[2K     \u001b[90m━━━━━━━━━━━━━━━━━━━━━━━━━━━━━━━━━━━━━━━━\u001b[0m \u001b[32m41.3/41.3 kB\u001b[0m \u001b[31m3.2 MB/s\u001b[0m eta \u001b[36m0:00:00\u001b[0m\n",
            "\u001b[2K     \u001b[90m━━━━━━━━━━━━━━━━━━━━━━━━━━━━━━━━━━━━━━━━\u001b[0m \u001b[32m5.4/5.4 MB\u001b[0m \u001b[31m27.3 MB/s\u001b[0m eta \u001b[36m0:00:00\u001b[0m\n",
            "\u001b[2K     \u001b[90m━━━━━━━━━━━━━━━━━━━━━━━━━━━━━━━━━━━━━━━━\u001b[0m \u001b[32m6.8/6.8 MB\u001b[0m \u001b[31m53.3 MB/s\u001b[0m eta \u001b[36m0:00:00\u001b[0m\n",
            "\u001b[2K     \u001b[90m━━━━━━━━━━━━━━━━━━━━━━━━━━━━━━━━━━━━━━━━\u001b[0m \u001b[32m60.1/60.1 kB\u001b[0m \u001b[31m6.6 MB/s\u001b[0m eta \u001b[36m0:00:00\u001b[0m\n",
            "\u001b[2K     \u001b[90m━━━━━━━━━━━━━━━━━━━━━━━━━━━━━━━━━━━━━━━━\u001b[0m \u001b[32m106.1/106.1 kB\u001b[0m \u001b[31m12.8 MB/s\u001b[0m eta \u001b[36m0:00:00\u001b[0m\n",
            "\u001b[2K     \u001b[90m━━━━━━━━━━━━━━━━━━━━━━━━━━━━━━━━━━━━━━━━\u001b[0m \u001b[32m67.3/67.3 kB\u001b[0m \u001b[31m6.8 MB/s\u001b[0m eta \u001b[36m0:00:00\u001b[0m\n",
            "\u001b[?25h  Installing build dependencies ... \u001b[?25l\u001b[?25hdone\n",
            "  Getting requirements to build wheel ... \u001b[?25l\u001b[?25hdone\n",
            "  Preparing metadata (pyproject.toml) ... \u001b[?25l\u001b[?25hdone\n",
            "\u001b[2K     \u001b[90m━━━━━━━━━━━━━━━━━━━━━━━━━━━━━━━━━━━━━━━━\u001b[0m \u001b[32m698.9/698.9 kB\u001b[0m \u001b[31m49.4 MB/s\u001b[0m eta \u001b[36m0:00:00\u001b[0m\n",
            "\u001b[2K     \u001b[90m━━━━━━━━━━━━━━━━━━━━━━━━━━━━━━━━━━━━━━━━\u001b[0m \u001b[32m1.6/1.6 MB\u001b[0m \u001b[31m51.2 MB/s\u001b[0m eta \u001b[36m0:00:00\u001b[0m\n",
            "\u001b[2K     \u001b[90m━━━━━━━━━━━━━━━━━━━━━━━━━━━━━━━━━━━━━━━━\u001b[0m \u001b[32m67.6/67.6 kB\u001b[0m \u001b[31m8.3 MB/s\u001b[0m eta \u001b[36m0:00:00\u001b[0m\n",
            "\u001b[2K     \u001b[90m━━━━━━━━━━━━━━━━━━━━━━━━━━━━━━━━━━━━━━━━\u001b[0m \u001b[32m71.9/71.9 kB\u001b[0m \u001b[31m7.5 MB/s\u001b[0m eta \u001b[36m0:00:00\u001b[0m\n",
            "\u001b[2K     \u001b[90m━━━━━━━━━━━━━━━━━━━━━━━━━━━━━━━━━━━━━━━━\u001b[0m \u001b[32m46.0/46.0 kB\u001b[0m \u001b[31m5.3 MB/s\u001b[0m eta \u001b[36m0:00:00\u001b[0m\n",
            "\u001b[2K     \u001b[90m━━━━━━━━━━━━━━━━━━━━━━━━━━━━━━━━━━━━━━━━\u001b[0m \u001b[32m50.8/50.8 kB\u001b[0m \u001b[31m5.7 MB/s\u001b[0m eta \u001b[36m0:00:00\u001b[0m\n",
            "\u001b[2K     \u001b[90m━━━━━━━━━━━━━━━━━━━━━━━━━━━━━━━━━━━━━━━━\u001b[0m \u001b[32m341.4/341.4 kB\u001b[0m \u001b[31m32.2 MB/s\u001b[0m eta \u001b[36m0:00:00\u001b[0m\n",
            "\u001b[2K     \u001b[90m━━━━━━━━━━━━━━━━━━━━━━━━━━━━━━━━━━━━━━━━\u001b[0m \u001b[32m3.4/3.4 MB\u001b[0m \u001b[31m66.7 MB/s\u001b[0m eta \u001b[36m0:00:00\u001b[0m\n",
            "\u001b[2K     \u001b[90m━━━━━━━━━━━━━━━━━━━━━━━━━━━━━━━━━━━━━━━━\u001b[0m \u001b[32m1.3/1.3 MB\u001b[0m \u001b[31m61.4 MB/s\u001b[0m eta \u001b[36m0:00:00\u001b[0m\n",
            "\u001b[2K     \u001b[90m━━━━━━━━━━━━━━━━━━━━━━━━━━━━━━━━━━━━━━━━\u001b[0m \u001b[32m130.2/130.2 kB\u001b[0m \u001b[31m14.2 MB/s\u001b[0m eta \u001b[36m0:00:00\u001b[0m\n",
            "\u001b[2K     \u001b[90m━━━━━━━━━━━━━━━━━━━━━━━━━━━━━━━━━━━━━━━━\u001b[0m \u001b[32m86.8/86.8 kB\u001b[0m \u001b[31m7.8 MB/s\u001b[0m eta \u001b[36m0:00:00\u001b[0m\n",
            "\u001b[?25h  Building wheel for pypika (pyproject.toml) ... \u001b[?25l\u001b[?25hdone\n"
          ]
        }
      ]
    },
    {
      "cell_type": "code",
      "source": [
        "!pip install langchain_cohere -q"
      ],
      "metadata": {
        "id": "qqL8zddVS-M9",
        "colab": {
          "base_uri": "https://localhost:8080/"
        },
        "outputId": "72e6a105-fb54-4af2-f508-fe5faf9c0ed7",
        "collapsed": true
      },
      "execution_count": null,
      "outputs": [
        {
          "output_type": "stream",
          "name": "stdout",
          "text": [
            "\u001b[?25l     \u001b[90m━━━━━━━━━━━━━━━━━━━━━━━━━━━━━━━━━━━━━━━━\u001b[0m \u001b[32m0.0/145.3 kB\u001b[0m \u001b[31m?\u001b[0m eta \u001b[36m-:--:--\u001b[0m\r\u001b[2K     \u001b[90m━━━━━━━━━━━━━━━━━━━━━━━━━━━━━━━━━━━━━━━━\u001b[0m \u001b[32m145.3/145.3 kB\u001b[0m \u001b[31m6.7 MB/s\u001b[0m eta \u001b[36m0:00:00\u001b[0m\n",
            "\u001b[?25h"
          ]
        }
      ]
    },
    {
      "cell_type": "code",
      "source": [
        "from langchain_cohere import ChatCohere, CohereEmbeddings, CohereRagRetriever, CohereRerank\n",
        "from langchain_community.document_loaders import TextLoader\n",
        "from langchain_community.vectorstores import Chroma\n",
        "from langchain.retrievers import ContextualCompressionRetriever\n",
        "from langchain.text_splitter import CharacterTextSplitter\n",
        "from google.colab import userdata\n",
        "import autogen"
      ],
      "metadata": {
        "id": "BWQAGYx7qqfj"
      },
      "execution_count": null,
      "outputs": []
    },
    {
      "cell_type": "code",
      "source": [
        "COHERE_API=userdata.get('COHERE_API')\n",
        "cohere_embeddings = CohereEmbeddings(cohere_api_key=COHERE_API)\n",
        "cohere_rerank = CohereRerank(cohere_api_key=COHERE_API,top_n = 3)\n"
      ],
      "metadata": {
        "id": "FUn-kfa_qw9V"
      },
      "execution_count": null,
      "outputs": []
    },
    {
      "cell_type": "code",
      "source": [
        "from typing import List,Type\n",
        "from langchain.pydantic_v1 import BaseModel, Field\n",
        "from langchain.tools import BaseTool\n",
        "\n",
        "class DocumentRetrievalInput(BaseModel):\n",
        "  \"\"\"\n",
        "  This class defines the input schema for the document retrieval tool.\n",
        "  \"\"\"\n",
        "  user_query: str = Field()\n",
        "  #documents: str = Field()\n",
        "\n",
        "CHUNK_SIZE = 3000\n",
        "CHUNK_OVERLAP = 200\n",
        "COHERE_EMBEDDINGS = cohere_embeddings\n",
        "class DocumentRetriever(BaseTool):\n",
        "  \"\"\"\n",
        "  This class represents a document retrieval tool.\n",
        "  \"\"\"\n",
        "  name = \"document_retriever\"\n",
        "  description = \"Use this tool to retrieve relevant documents based on a user query.\"\n",
        "  args_schema: Type[BaseModel] = DocumentRetrievalInput\n",
        "\n",
        "  def _run(self, user_query: str) -> List[str]:\n",
        "    \"\"\"\n",
        "    Performs document retrieval based on the provided user query and documents.\n",
        "\n",
        "    Args:\n",
        "        user_query (str): The user's query string.\n",
        "        documents (List[str]): List of documents to search within.\n",
        "\n",
        "    Returns:\n",
        "        list: List of relevant documents retrieved for the query.\n",
        "    \"\"\"\n",
        "    raw_documents = TextLoader('Test.txt').load()\n",
        "    text_splitter = CharacterTextSplitter(chunk_size=CHUNK_SIZE, chunk_overlap=CHUNK_OVERLAP)\n",
        "    split_documents = text_splitter.split_documents(raw_documents)\n",
        "    db = Chroma.from_documents(split_documents, COHERE_EMBEDDINGS)\n",
        "    compression_retriever = ContextualCompressionRetriever(\n",
        "        base_compressor=cohere_rerank,\n",
        "        base_retriever=db.as_retriever()\n",
        "    )\n",
        "    compressed_docs = compression_retriever.get_relevant_documents(user_query)\n",
        "    return compressed_docs\n",
        "\n"
      ],
      "metadata": {
        "id": "Go3t7eywSrTL"
      },
      "execution_count": null,
      "outputs": []
    },
    {
      "cell_type": "code",
      "source": [
        "def generate_llm_config(tool):\n",
        "    # Define the function schema based on the tool's args_schema\n",
        "    function_schema = {\n",
        "        \"name\": tool.name.lower().replace(\" \", \"_\"),\n",
        "        \"description\": tool.description,\n",
        "        \"parameters\": {\n",
        "            \"type\": \"object\",\n",
        "            \"properties\": {},\n",
        "            \"required\": [],\n",
        "        },\n",
        "    }\n",
        "\n",
        "    if tool.args is not None:\n",
        "        function_schema[\"parameters\"][\"properties\"] = tool.args\n",
        "\n",
        "    return function_schema\n"
      ],
      "metadata": {
        "id": "ODxm3V5gsFOn"
      },
      "execution_count": null,
      "outputs": []
    },
    {
      "cell_type": "code",
      "source": [
        "custom_tool = DocumentRetriever()"
      ],
      "metadata": {
        "id": "90Ke-nKD5tFZ"
      },
      "execution_count": null,
      "outputs": []
    },
    {
      "cell_type": "code",
      "source": [
        "generate_llm_config(custom_tool)"
      ],
      "metadata": {
        "colab": {
          "base_uri": "https://localhost:8080/"
        },
        "id": "qTLOKirsDpCi",
        "outputId": "bcfd8494-8d5c-40a9-9c24-9f9ac9518725"
      },
      "execution_count": null,
      "outputs": [
        {
          "output_type": "execute_result",
          "data": {
            "text/plain": [
              "{'name': 'document_retriever',\n",
              " 'description': 'Use this tool to retrieve relevant documents based on a user query.',\n",
              " 'parameters': {'type': 'object',\n",
              "  'properties': {'user_query': {'title': 'User Query', 'type': 'string'}},\n",
              "  'required': []}}"
            ]
          },
          "metadata": {},
          "execution_count": 17
        }
      ]
    },
    {
      "cell_type": "code",
      "source": [
        "OPENAI_API_KEY=userdata.get(\"OPENAI_API_KEY_3.5\")\n",
        "#Together_Api_Key we are expermenting\n",
        "TOGETHER_API_KEY=userdata.get('TOGETHER_API_KEY')\n",
        "FIREWORKS_API_KEY=userdata.get('FIREWORKS_API_KEY')\n",
        "#config_list=[\n",
        "#  {\n",
        "#    \"model\": \"meta-llama/Llama-2-7b-chat-hf\",\n",
        "#    \"api_key\": TOGETHER_API_KEY,\n",
        "#    \"base_url\": \"https://api.together.xyz/v1\"\n",
        "#\n",
        "#  }\n",
        "#]\n",
        "#config_list=[\n",
        "#    {\n",
        "#    \"model\":\"gpt-3.5-turbo\",\n",
        "#    \"api_key\":OPENAI_API_KEY,\n",
        "#}\n",
        "#]\n",
        "config_list=[{\n",
        "\n",
        "              \"model\": \"accounts/fireworks/models/fw-function-call-34b-v0\",\"api_key\": FIREWORKS_API_KEY, \"base_url\":\"https://api.fireworks.ai/inference/v1\"\n",
        "}]\n",
        "\n",
        "llm_config = {\n",
        "    # Generate functions config for the Tool\n",
        "    \"functions\": [\n",
        "        generate_llm_config(custom_tool),\n",
        "    ],\n",
        "    \"config_list\": config_list,  # Assuming you have this defined elsewhere\n",
        "    \"timeout\": 120,\n",
        "\n",
        "}\n"
      ],
      "metadata": {
        "id": "ziYmj7XQ5_Ht"
      },
      "execution_count": null,
      "outputs": []
    },
    {
      "cell_type": "code",
      "source": [
        "user_proxy = autogen.UserProxyAgent(\n",
        "    name=\"user_proxy\",\n",
        "    is_termination_msg=lambda x: x.get(\"content\", \"\") and x.get(\"content\", \"\").rstrip().endswith(\"TERMINATE\"),\n",
        "    human_input_mode=\"NEVER\",\n",
        "    max_consecutive_auto_reply=3,\n",
        "    code_execution_config={\n",
        "        \"work_dir\": \"coding\",\n",
        "        \"use_docker\": False,\n",
        "    },  # Please set use_docker=True if docker is available to run the generated code. Using docker is safer than running the generated code directly.\n",
        ")"
      ],
      "metadata": {
        "id": "kPnazy3mCSnU"
      },
      "execution_count": null,
      "outputs": []
    },
    {
      "cell_type": "code",
      "source": [
        "user_proxy.register_function(\n",
        "    function_map={\n",
        "        custom_tool.name: custom_tool._run,\n",
        "    }\n",
        ")\n"
      ],
      "metadata": {
        "id": "Pj4hHJ_zCe7X"
      },
      "execution_count": null,
      "outputs": []
    },
    {
      "cell_type": "code",
      "source": [
        "\n",
        "chatbot = autogen.AssistantAgent(\n",
        "    name=\"chatbot\",\n",
        "    human_input_mode=\"NEVER\",\n",
        "    system_message=\"You're a helpful assistant.Summarize all the important information and answer in a proper format and only use the functions you have been provided with. Reply TERMINATE when the task is done.\",\n",
        "    llm_config=llm_config,\n",
        ")\n"
      ],
      "metadata": {
        "id": "JFWO7gswCmIA"
      },
      "execution_count": null,
      "outputs": []
    },
    {
      "cell_type": "code",
      "source": [
        "user_proxy.initiate_chat(\n",
        "    chatbot,\n",
        "    message=\"How to configure Remote Wake?\",\n",
        "    llm_config=llm_config,\n",
        ")"
      ],
      "metadata": {
        "colab": {
          "base_uri": "https://localhost:8080/"
        },
        "id": "Hm0h24AdEZNq",
        "outputId": "d0a5846c-08bc-48b7-f7c1-516a4af5ccae"
      },
      "execution_count": null,
      "outputs": [
        {
          "output_type": "stream",
          "name": "stdout",
          "text": [
            "user_proxy (to chatbot):\n",
            "\n",
            "How to configure Remote Wake?\n",
            "\n",
            "--------------------------------------------------------------------------------\n",
            "chatbot (to user_proxy):\n",
            "\n",
            " \n",
            "***** Suggested tool call (call_Ds3TvUGhDV93x3BnP1ZGQFMB): document_retriever *****\n",
            "Arguments: \n",
            "{\"user_query\": \"How to configure Remote Wake?\"}\n",
            "***********************************************************************************\n",
            "\n",
            "--------------------------------------------------------------------------------\n",
            "\n",
            ">>>>>>>> EXECUTING FUNCTION document_retriever...\n"
          ]
        },
        {
          "output_type": "stream",
          "name": "stderr",
          "text": [
            "WARNING:langchain_text_splitters.base:Created a chunk of size 5960, which is longer than the specified 3000\n",
            "WARNING:langchain_text_splitters.base:Created a chunk of size 6225, which is longer than the specified 3000\n",
            "WARNING:langchain_text_splitters.base:Created a chunk of size 6545, which is longer than the specified 3000\n",
            "WARNING:langchain_text_splitters.base:Created a chunk of size 6286, which is longer than the specified 3000\n",
            "WARNING:langchain_text_splitters.base:Created a chunk of size 4448, which is longer than the specified 3000\n",
            "WARNING:langchain_text_splitters.base:Created a chunk of size 5723, which is longer than the specified 3000\n",
            "WARNING:langchain_text_splitters.base:Created a chunk of size 6397, which is longer than the specified 3000\n",
            "WARNING:langchain_text_splitters.base:Created a chunk of size 6493, which is longer than the specified 3000\n",
            "WARNING:langchain_text_splitters.base:Created a chunk of size 6662, which is longer than the specified 3000\n",
            "WARNING:langchain_text_splitters.base:Created a chunk of size 6591, which is longer than the specified 3000\n",
            "WARNING:langchain_text_splitters.base:Created a chunk of size 6684, which is longer than the specified 3000\n",
            "WARNING:langchain_text_splitters.base:Created a chunk of size 7042, which is longer than the specified 3000\n",
            "WARNING:langchain_text_splitters.base:Created a chunk of size 3470, which is longer than the specified 3000\n",
            "WARNING:langchain_text_splitters.base:Created a chunk of size 3297, which is longer than the specified 3000\n",
            "WARNING:langchain_text_splitters.base:Created a chunk of size 3203, which is longer than the specified 3000\n",
            "WARNING:langchain_text_splitters.base:Created a chunk of size 3426, which is longer than the specified 3000\n",
            "WARNING:langchain_text_splitters.base:Created a chunk of size 3703, which is longer than the specified 3000\n",
            "WARNING:langchain_text_splitters.base:Created a chunk of size 3742, which is longer than the specified 3000\n",
            "WARNING:langchain_text_splitters.base:Created a chunk of size 3793, which is longer than the specified 3000\n",
            "WARNING:langchain_text_splitters.base:Created a chunk of size 3239, which is longer than the specified 3000\n",
            "WARNING:langchain_text_splitters.base:Created a chunk of size 3089, which is longer than the specified 3000\n",
            "WARNING:langchain_text_splitters.base:Created a chunk of size 3132, which is longer than the specified 3000\n"
          ]
        },
        {
          "output_type": "stream",
          "name": "stdout",
          "text": [
            "user_proxy (to chatbot):\n",
            "\n",
            "user_proxy (to chatbot):\n",
            "\n",
            "***** Response from calling tool (call_Ds3TvUGhDV93x3BnP1ZGQFMB) *****\n",
            "[Document(page_content='3\\n\\n2\\n\\n1\\n\\n0\\nPD\\n\\nrc_r rc_r\\n\\n4\\n\\nMPE\\n\\nrw\\n\\n5\\n\\nWFE\\n\\nRes.\\n\\n6\\n\\nReserved\\n\\nGU\\n\\nrs\\n\\n7\\n\\nMPR\\n\\nReserved\\n\\n8\\n\\nWFR\\n\\n9\\n\\nReserved\\n\\n31 30 29 28 27 26 25 24 23 22 21 20 19 18 17 16 15 14 13 12 11 10\\nWFFRPR\\n\\nThe ETH_MACPMTCSR programs the request wakeup events and monitors the wakeup\\nevents.\\n\\nrw\\n\\nrw\\n\\nrs\\n\\nBit 31 WFFRPR: Wakeup frame filter register pointer reset\\nWhen set, it resets the Remote wakeup frame filter register pointer to 0b000. It is\\nautomatically cleared after 1 clock cycle.\\nBits 30:10 Reserved, must be kept at reset value.\\nBit 9 GU: Global unicast\\nWhen set, it enables any unicast packet filtered by the MAC (DAF) address recognition to be\\na wakeup frame.\\nBits 8:7 Reserved, must be kept at reset value.\\nBit 6 WFR: Wakeup frame received\\nWhen set, this bit indicates the power management event was generated due to reception of\\na wakeup frame. This bit is cleared by a read into this register.\\nBit 5 MPR: Magic packet received\\nWhen set, this bit indicates the power management event was generated by the reception of\\na Magic Packet. This bit is cleared by a read into this register.\\nBits 4:3 Reserved, must be kept at reset value.\\nBit 2 WFE: Wakeup frame enable\\nWhen set, this bit enables the generation of a power management event due to wakeup\\nframe reception.\\nBit 1 MPE: Magic Packet enable\\nWhen set, this bit enables the generation of a power management event due to Magic\\nPacket reception.\\nBit 0 PD: Power down\\nWhen this bit is set, all received frames will be dropped. This bit is cleared automatically\\nwhen a magic packet or wakeup frame is received, and Power-down mode is disabled.\\nFrames received after this bit is cleared are forwarded to the application. This bit must only\\nbe set when either the Magic Packet Enable or Wakeup Frame Enable bit is set high.\\n\\n1042/1136\\n\\nRM0008 Rev 21\\n\\n\\x0cRM0008\\n\\nEthernet (ETH): media access control (MAC) with DMA controller\\n\\nEthernet MAC interrupt status register (ETH_MACSR)\\nAddress offset: 0x0038\\nReset value: 0x0000 0000\\nThe ETH_MACSR register contents identify the events in the MAC that can generate an\\ninterrupt.\\n15\\n\\n14\\n\\n13\\n\\n12\\n\\nReserved\\n\\n11\\n\\n10\\n\\n9\\nTSTS\\nrc_r\\n\\n8\\n\\n7\\n\\nReserved\\n\\n6\\n\\n5\\n\\nMMCTS MMCRS\\nr\\n\\nr\\n\\n4\\n\\n3\\n\\nMMCS\\n\\nPMTS\\n\\nr\\n\\nr\\n\\n2\\n\\n1\\n\\n0\\n\\nReserved', metadata={'source': 'Test.txt', 'relevance_score': 0.7325918}), Document(page_content='29.5.8\\n\\nPower management: PMT\\nThis section describes the power management (PMT) mechanisms supported by the MAC.\\nPMT supports the reception of network (remote) wakeup frames and Magic Packet frames.\\nPMT generates interrupts for wakeup frames and Magic Packets received by the MAC. The\\nPMT block is enabled with remote wakeup frame enable and Magic Packet enable. These\\nenable bits (WFE and MPE) are in the ETH_MACPMTCSR register and are programmed by\\nthe application. When the power down mode is enabled in the PMT, then all received frames\\nare dropped by the MAC and they are not forwarded to the application. The MAC comes out\\nof the power down mode only when either a Magic Packet or a Remote wakeup frame is\\nreceived and the corresponding detection is enabled.\\n\\nRemote wakeup frame filter register\\nThere are eight wakeup frame filter registers. To write on each of them, load the wakeup\\nframe filter register value by value. The wanted values of the wakeup frame filter are loaded\\nby sequentially loading eight times the wakeup frame filter register. The read operation is\\nidentical to the write operation. To read the eight values, you have to read eight times the\\nwakeup frame filter register to reach the last register. Each read/write points the wakeup\\nframe filter register to the next filter register.\\nFigure 348. Wakeup frame filter register\\nWakeup frame filter reg0\\n\\nFilter 0 Byte Mask\\n\\nWakeup frame filter reg1\\n\\nFilter 1 Byte Mask\\n\\nWakeup frame filter reg2\\n\\nFilter 2 Byte Mask\\n\\nWakeup frame filter reg3\\n\\nFilter 3 Byte Mask\\n\\nWakeup frame filter reg4\\nWakeup frame filter reg5\\n\\nRSVD\\n\\nFilter 3\\nCommand\\n\\nFilter 3 Offset\\n\\nRSVD\\n\\nFilter 2\\nCommand\\n\\nFilter 2 Offset\\n\\nRSVD\\n\\nFilter 1\\nCommand\\n\\nFilter 1 Offset\\n\\nRSVD\\n\\nFilter 0\\nCommand\\n\\nFilter 0 Offset\\n\\nWakeup frame filter reg6\\n\\nFilter 1 CRC - 16\\n\\nFilter 0 CRC - 16\\n\\nWakeup frame filter reg7\\n\\nFilter 3 CRC - 16\\n\\nFilter 2 CRC - 16\\nai15647\\n\\nRM0008 Rev 21\\n\\n1001/1136\\n1075\\n\\n\\x0cEthernet (ETH): media access control (MAC) with DMA controller\\n\\uf0b7\\n\\nRM0008\\n\\nFilter i Byte Mask\\nThis register defines which bytes of the frame are examined by filter i (0, 1, 2, and 3) in\\norder to determine whether or not the frame is a wakeup frame. The MSB (thirty-first\\nbit) must be zero. Bit j [30:0] is the Byte Mask. If bit j (byte number) of the Byte Mask is\\nset, then Filter i Offset + j of the incoming frame is processed by the CRC block;\\notherwise Filter i Offset + j is ignored.\\n\\n\\uf0b7\\n\\nFilter i Command\\nThis 4-bit command controls the filter i operation. Bit 3 specifies the address type,\\ndefining the pattern’s destination address type. When the bit is set, the pattern applies\\nto only multicast frames. When the bit is reset, the pattern applies only to unicast\\nframes. Bit 2 and bit 1 are reserved. Bit 0 is the enable bit for filter i; if bit 0 is not set,\\nfilter i is disabled.\\n\\n\\uf0b7', metadata={'source': 'Test.txt', 'relevance_score': 0.6351093}), Document(page_content='5.3.6\\n\\nAuto-wakeup (AWU) from low-power mode\\nThe RTC can be used to wakeup the MCU from low-power mode without depending on an\\nexternal interrupt (Auto-wakeup mode). The RTC provides a programmable time base for\\nwaking up from Stop or Standby mode at regular intervals. For this purpose, two of the three\\nalternative RTC clock sources can be selected by programming the RTCSEL[1:0] bits in the\\nBackup domain control register (RCC_BDCR):\\n\\uf0b7\\n\\nLow-power 32.768 kHz external crystal oscillator (LSE OSC).\\nThis clock source provides a precise time base with very low-power consumption (less\\nthan 1µA added consumption in typical conditions)\\n\\n\\uf0b7\\n\\nLow-power internal RC Oscillator (LSI RC)\\nThis clock source has the advantage of saving the cost of the 32.768 kHz crystal. This\\ninternal RC Oscillator is designed to add minimum power consumption.\\n\\nTo wakeup from Stop mode with an RTC alarm event, it is necessary to:\\n\\uf0b7\\n\\nConfigure the EXTI Line 17 to be sensitive to rising edge\\n\\n\\uf0b7\\n\\nConfigure the RTC to generate the RTC alarm\\n\\nTo wakeup from Standby mode, there is no need to configure the EXTI Line 17.\\n\\n5.4\\n\\nPower control registers\\nThe peripheral registers can be accessed by half-words (16-bit) or words (32-bit).\\n\\n5.4.1\\n\\nPower control register (PWR_CR)\\nAddress offset: 0x00\\nReset value: 0x0000 0000 (reset by wakeup from Standby mode)\\n\\n31\\n\\n30\\n\\n29\\n\\n28\\n\\n27\\n\\n26\\n\\n25\\n\\n24\\n\\n23\\n\\n22\\n\\n21\\n\\n20\\n\\n19\\n\\n18\\n\\n17\\n\\n16\\n\\n6\\n\\n5\\n\\n4\\n\\n3\\n\\n2\\n\\n1\\n\\n0\\n\\nPVDE\\n\\nCSBF\\n\\nCWUF\\n\\nPDDS\\n\\nLPDS\\n\\nrw\\n\\nrc_w1\\n\\nrc_w1\\n\\nrw\\n\\nrw\\n\\nReserved\\n15\\n\\n14\\n\\n13\\n\\n12\\nReserved\\n\\n11\\n\\n10\\n\\n9\\n\\n8\\n\\n7\\n\\nDBP\\nrw\\n\\nPLS[2:0]\\nrw\\n\\nRM0008 Rev 21\\n\\nrw\\n\\nrw\\n\\n77/80\\n80\\n\\n\\x0cPower control (PWR)\\n\\nBits 31:9\\n\\nRM0008\\n\\nReserved, must be kept at reset value..', metadata={'source': 'Test.txt', 'relevance_score': 0.076545626})]\n",
            "**********************************************************************\n",
            "\n",
            "--------------------------------------------------------------------------------\n",
            "chatbot (to user_proxy):\n",
            "\n",
            "Here are the relevant instructions for configuring Remote Wake:\n",
            "\n",
            "1. To enable remote wakeup and Magic Packet: Write to the MAC power management control and status register (MACPMTCSR) and set the WFE (Wakeup Frame Enable) bit (bit 2) and MPE (Magic Packet Enable) bit (bit 1).\n",
            "2. To program the remote wakeup filters: Remote wakeup filters support eight filter sets with filters up to a maximum of 32 bytes. To write on each of them, load the wakeup frame filter register value by value. Load the wakeup frame filter register by sequentially loading eight times the wakeup frame filter register and follow the same process for other filters.\n",
            "3. To wake up from sleep modes: Configure an external interrupt line (EXTI Line 17) to be sensitive to rising edges and configure the RTC\n",
            "\n",
            "--------------------------------------------------------------------------------\n",
            "user_proxy (to chatbot):\n",
            "\n",
            "\n",
            "\n",
            "--------------------------------------------------------------------------------\n",
            "chatbot (to user_proxy):\n",
            "\n",
            "Sorry for the confusion and I apologize for any inconvenience caused. These are the correct instructions to configure Remote Wake:\n",
            "\n",
            "1. To enable the remote wakeup feature andMagic Packet to the system: Set the relevant bits in the Power Management Control and Status Register (PWR_CR) of the Power Management (PWR) module. Specifically, set the DBP bit in PWR_CR to disable the Backup domain Write Protection and set the PVDE (Peripher Voltage Enable) bit to enable the peripheral voltage domain for the RTC or PWR peripheral.\n",
            "2. To configure the RTC and the wake-up patterns: The RTC wake-up clock has to be set up to generate the wake-up event at the selected time. This is done by configuring the Asynchronous WakeUp Timer, the time base (the RTCSRC bit [\n",
            "\n",
            "--------------------------------------------------------------------------------\n",
            "user_proxy (to chatbot):\n",
            "\n",
            "\n",
            "\n",
            "--------------------------------------------------------------------------------\n",
            "chatbot (to user_proxy):\n",
            "\n",
            "Sorry for any inconvenience caused earlier. Here are the steps to correctly configure the RTC wakeup timer:\n",
            "\n",
            "1. Enable the RTC back-up registers: Set the BKPEN bit in the RCC_BDCR register to enable the access to the back-up registers domain.\n",
            "2. Set the appropriate source clock for the RTC: Select the clock source, the LSE or the LSI, via the RCC_BDCR register RTCSEL bits [1:0].\n",
            "3. Enable the LSE or the LSI: Enable the LSE or the LSI clock using the RCC_BDCR register LSEON or LSION bits.\n",
            "4. Check if the selected clock is ready: Check if the LSE or the LSI clock is stable by verifying the LSERDY or LSIRDY bit in the RCC_BDCR register.\n",
            "5. Clear\n",
            "\n",
            "--------------------------------------------------------------------------------\n"
          ]
        },
        {
          "output_type": "execute_result",
          "data": {
            "text/plain": [
              "ChatResult(chat_id=None, chat_history=[{'content': 'How to configure Remote Wake?', 'role': 'assistant'}, {'content': ' ', 'tool_calls': [{'id': 'call_Ds3TvUGhDV93x3BnP1ZGQFMB', 'function': {'arguments': '{\"user_query\": \"How to configure Remote Wake?\"}', 'name': 'document_retriever'}, 'type': 'function', 'index': 0}], 'role': 'assistant'}, {'content': \"[Document(page_content='3\\\\n\\\\n2\\\\n\\\\n1\\\\n\\\\n0\\\\nPD\\\\n\\\\nrc_r rc_r\\\\n\\\\n4\\\\n\\\\nMPE\\\\n\\\\nrw\\\\n\\\\n5\\\\n\\\\nWFE\\\\n\\\\nRes.\\\\n\\\\n6\\\\n\\\\nReserved\\\\n\\\\nGU\\\\n\\\\nrs\\\\n\\\\n7\\\\n\\\\nMPR\\\\n\\\\nReserved\\\\n\\\\n8\\\\n\\\\nWFR\\\\n\\\\n9\\\\n\\\\nReserved\\\\n\\\\n31 30 29 28 27 26 25 24 23 22 21 20 19 18 17 16 15 14 13 12 11 10\\\\nWFFRPR\\\\n\\\\nThe ETH_MACPMTCSR programs the request wakeup events and monitors the wakeup\\\\nevents.\\\\n\\\\nrw\\\\n\\\\nrw\\\\n\\\\nrs\\\\n\\\\nBit 31 WFFRPR: Wakeup frame filter register pointer reset\\\\nWhen set, it resets the Remote wakeup frame filter register pointer to 0b000. It is\\\\nautomatically cleared after 1 clock cycle.\\\\nBits 30:10 Reserved, must be kept at reset value.\\\\nBit 9 GU: Global unicast\\\\nWhen set, it enables any unicast packet filtered by the MAC (DAF) address recognition to be\\\\na wakeup frame.\\\\nBits 8:7 Reserved, must be kept at reset value.\\\\nBit 6 WFR: Wakeup frame received\\\\nWhen set, this bit indicates the power management event was generated due to reception of\\\\na wakeup frame. This bit is cleared by a read into this register.\\\\nBit 5 MPR: Magic packet received\\\\nWhen set, this bit indicates the power management event was generated by the reception of\\\\na Magic Packet. This bit is cleared by a read into this register.\\\\nBits 4:3 Reserved, must be kept at reset value.\\\\nBit 2 WFE: Wakeup frame enable\\\\nWhen set, this bit enables the generation of a power management event due to wakeup\\\\nframe reception.\\\\nBit 1 MPE: Magic Packet enable\\\\nWhen set, this bit enables the generation of a power management event due to Magic\\\\nPacket reception.\\\\nBit 0 PD: Power down\\\\nWhen this bit is set, all received frames will be dropped. This bit is cleared automatically\\\\nwhen a magic packet or wakeup frame is received, and Power-down mode is disabled.\\\\nFrames received after this bit is cleared are forwarded to the application. This bit must only\\\\nbe set when either the Magic Packet Enable or Wakeup Frame Enable bit is set high.\\\\n\\\\n1042/1136\\\\n\\\\nRM0008 Rev 21\\\\n\\\\n\\\\x0cRM0008\\\\n\\\\nEthernet (ETH): media access control (MAC) with DMA controller\\\\n\\\\nEthernet MAC interrupt status register (ETH_MACSR)\\\\nAddress offset: 0x0038\\\\nReset value: 0x0000 0000\\\\nThe ETH_MACSR register contents identify the events in the MAC that can generate an\\\\ninterrupt.\\\\n15\\\\n\\\\n14\\\\n\\\\n13\\\\n\\\\n12\\\\n\\\\nReserved\\\\n\\\\n11\\\\n\\\\n10\\\\n\\\\n9\\\\nTSTS\\\\nrc_r\\\\n\\\\n8\\\\n\\\\n7\\\\n\\\\nReserved\\\\n\\\\n6\\\\n\\\\n5\\\\n\\\\nMMCTS MMCRS\\\\nr\\\\n\\\\nr\\\\n\\\\n4\\\\n\\\\n3\\\\n\\\\nMMCS\\\\n\\\\nPMTS\\\\n\\\\nr\\\\n\\\\nr\\\\n\\\\n2\\\\n\\\\n1\\\\n\\\\n0\\\\n\\\\nReserved', metadata={'source': 'Test.txt', 'relevance_score': 0.7325918}), Document(page_content='29.5.8\\\\n\\\\nPower management: PMT\\\\nThis section describes the power management (PMT) mechanisms supported by the MAC.\\\\nPMT supports the reception of network (remote) wakeup frames and Magic Packet frames.\\\\nPMT generates interrupts for wakeup frames and Magic Packets received by the MAC. The\\\\nPMT block is enabled with remote wakeup frame enable and Magic Packet enable. These\\\\nenable bits (WFE and MPE) are in the ETH_MACPMTCSR register and are programmed by\\\\nthe application. When the power down mode is enabled in the PMT, then all received frames\\\\nare dropped by the MAC and they are not forwarded to the application. The MAC comes out\\\\nof the power down mode only when either a Magic Packet or a Remote wakeup frame is\\\\nreceived and the corresponding detection is enabled.\\\\n\\\\nRemote wakeup frame filter register\\\\nThere are eight wakeup frame filter registers. To write on each of them, load the wakeup\\\\nframe filter register value by value. The wanted values of the wakeup frame filter are loaded\\\\nby sequentially loading eight times the wakeup frame filter register. The read operation is\\\\nidentical to the write operation. To read the eight values, you have to read eight times the\\\\nwakeup frame filter register to reach the last register. Each read/write points the wakeup\\\\nframe filter register to the next filter register.\\\\nFigure 348. Wakeup frame filter register\\\\nWakeup frame filter reg0\\\\n\\\\nFilter 0 Byte Mask\\\\n\\\\nWakeup frame filter reg1\\\\n\\\\nFilter 1 Byte Mask\\\\n\\\\nWakeup frame filter reg2\\\\n\\\\nFilter 2 Byte Mask\\\\n\\\\nWakeup frame filter reg3\\\\n\\\\nFilter 3 Byte Mask\\\\n\\\\nWakeup frame filter reg4\\\\nWakeup frame filter reg5\\\\n\\\\nRSVD\\\\n\\\\nFilter 3\\\\nCommand\\\\n\\\\nFilter 3 Offset\\\\n\\\\nRSVD\\\\n\\\\nFilter 2\\\\nCommand\\\\n\\\\nFilter 2 Offset\\\\n\\\\nRSVD\\\\n\\\\nFilter 1\\\\nCommand\\\\n\\\\nFilter 1 Offset\\\\n\\\\nRSVD\\\\n\\\\nFilter 0\\\\nCommand\\\\n\\\\nFilter 0 Offset\\\\n\\\\nWakeup frame filter reg6\\\\n\\\\nFilter 1 CRC - 16\\\\n\\\\nFilter 0 CRC - 16\\\\n\\\\nWakeup frame filter reg7\\\\n\\\\nFilter 3 CRC - 16\\\\n\\\\nFilter 2 CRC - 16\\\\nai15647\\\\n\\\\nRM0008 Rev 21\\\\n\\\\n1001/1136\\\\n1075\\\\n\\\\n\\\\x0cEthernet (ETH): media access control (MAC) with DMA controller\\\\n\\\\uf0b7\\\\n\\\\nRM0008\\\\n\\\\nFilter i Byte Mask\\\\nThis register defines which bytes of the frame are examined by filter i (0, 1, 2, and 3) in\\\\norder to determine whether or not the frame is a wakeup frame. The MSB (thirty-first\\\\nbit) must be zero. Bit j [30:0] is the Byte Mask. If bit j (byte number) of the Byte Mask is\\\\nset, then Filter i Offset + j of the incoming frame is processed by the CRC block;\\\\notherwise Filter i Offset + j is ignored.\\\\n\\\\n\\\\uf0b7\\\\n\\\\nFilter i Command\\\\nThis 4-bit command controls the filter i operation. Bit 3 specifies the address type,\\\\ndefining the pattern’s destination address type. When the bit is set, the pattern applies\\\\nto only multicast frames. When the bit is reset, the pattern applies only to unicast\\\\nframes. Bit 2 and bit 1 are reserved. Bit 0 is the enable bit for filter i; if bit 0 is not set,\\\\nfilter i is disabled.\\\\n\\\\n\\\\uf0b7', metadata={'source': 'Test.txt', 'relevance_score': 0.6351093}), Document(page_content='5.3.6\\\\n\\\\nAuto-wakeup (AWU) from low-power mode\\\\nThe RTC can be used to wakeup the MCU from low-power mode without depending on an\\\\nexternal interrupt (Auto-wakeup mode). The RTC provides a programmable time base for\\\\nwaking up from Stop or Standby mode at regular intervals. For this purpose, two of the three\\\\nalternative RTC clock sources can be selected by programming the RTCSEL[1:0] bits in the\\\\nBackup domain control register (RCC_BDCR):\\\\n\\\\uf0b7\\\\n\\\\nLow-power 32.768 kHz external crystal oscillator (LSE OSC).\\\\nThis clock source provides a precise time base with very low-power consumption (less\\\\nthan 1µA added consumption in typical conditions)\\\\n\\\\n\\\\uf0b7\\\\n\\\\nLow-power internal RC Oscillator (LSI RC)\\\\nThis clock source has the advantage of saving the cost of the 32.768 kHz crystal. This\\\\ninternal RC Oscillator is designed to add minimum power consumption.\\\\n\\\\nTo wakeup from Stop mode with an RTC alarm event, it is necessary to:\\\\n\\\\uf0b7\\\\n\\\\nConfigure the EXTI Line 17 to be sensitive to rising edge\\\\n\\\\n\\\\uf0b7\\\\n\\\\nConfigure the RTC to generate the RTC alarm\\\\n\\\\nTo wakeup from Standby mode, there is no need to configure the EXTI Line 17.\\\\n\\\\n5.4\\\\n\\\\nPower control registers\\\\nThe peripheral registers can be accessed by half-words (16-bit) or words (32-bit).\\\\n\\\\n5.4.1\\\\n\\\\nPower control register (PWR_CR)\\\\nAddress offset: 0x00\\\\nReset value: 0x0000 0000 (reset by wakeup from Standby mode)\\\\n\\\\n31\\\\n\\\\n30\\\\n\\\\n29\\\\n\\\\n28\\\\n\\\\n27\\\\n\\\\n26\\\\n\\\\n25\\\\n\\\\n24\\\\n\\\\n23\\\\n\\\\n22\\\\n\\\\n21\\\\n\\\\n20\\\\n\\\\n19\\\\n\\\\n18\\\\n\\\\n17\\\\n\\\\n16\\\\n\\\\n6\\\\n\\\\n5\\\\n\\\\n4\\\\n\\\\n3\\\\n\\\\n2\\\\n\\\\n1\\\\n\\\\n0\\\\n\\\\nPVDE\\\\n\\\\nCSBF\\\\n\\\\nCWUF\\\\n\\\\nPDDS\\\\n\\\\nLPDS\\\\n\\\\nrw\\\\n\\\\nrc_w1\\\\n\\\\nrc_w1\\\\n\\\\nrw\\\\n\\\\nrw\\\\n\\\\nReserved\\\\n15\\\\n\\\\n14\\\\n\\\\n13\\\\n\\\\n12\\\\nReserved\\\\n\\\\n11\\\\n\\\\n10\\\\n\\\\n9\\\\n\\\\n8\\\\n\\\\n7\\\\n\\\\nDBP\\\\nrw\\\\n\\\\nPLS[2:0]\\\\nrw\\\\n\\\\nRM0008 Rev 21\\\\n\\\\nrw\\\\n\\\\nrw\\\\n\\\\n77/80\\\\n80\\\\n\\\\n\\\\x0cPower control (PWR)\\\\n\\\\nBits 31:9\\\\n\\\\nRM0008\\\\n\\\\nReserved, must be kept at reset value..', metadata={'source': 'Test.txt', 'relevance_score': 0.076545626})]\", 'tool_responses': [{'tool_call_id': 'call_Ds3TvUGhDV93x3BnP1ZGQFMB', 'role': 'tool', 'content': \"[Document(page_content='3\\\\n\\\\n2\\\\n\\\\n1\\\\n\\\\n0\\\\nPD\\\\n\\\\nrc_r rc_r\\\\n\\\\n4\\\\n\\\\nMPE\\\\n\\\\nrw\\\\n\\\\n5\\\\n\\\\nWFE\\\\n\\\\nRes.\\\\n\\\\n6\\\\n\\\\nReserved\\\\n\\\\nGU\\\\n\\\\nrs\\\\n\\\\n7\\\\n\\\\nMPR\\\\n\\\\nReserved\\\\n\\\\n8\\\\n\\\\nWFR\\\\n\\\\n9\\\\n\\\\nReserved\\\\n\\\\n31 30 29 28 27 26 25 24 23 22 21 20 19 18 17 16 15 14 13 12 11 10\\\\nWFFRPR\\\\n\\\\nThe ETH_MACPMTCSR programs the request wakeup events and monitors the wakeup\\\\nevents.\\\\n\\\\nrw\\\\n\\\\nrw\\\\n\\\\nrs\\\\n\\\\nBit 31 WFFRPR: Wakeup frame filter register pointer reset\\\\nWhen set, it resets the Remote wakeup frame filter register pointer to 0b000. It is\\\\nautomatically cleared after 1 clock cycle.\\\\nBits 30:10 Reserved, must be kept at reset value.\\\\nBit 9 GU: Global unicast\\\\nWhen set, it enables any unicast packet filtered by the MAC (DAF) address recognition to be\\\\na wakeup frame.\\\\nBits 8:7 Reserved, must be kept at reset value.\\\\nBit 6 WFR: Wakeup frame received\\\\nWhen set, this bit indicates the power management event was generated due to reception of\\\\na wakeup frame. This bit is cleared by a read into this register.\\\\nBit 5 MPR: Magic packet received\\\\nWhen set, this bit indicates the power management event was generated by the reception of\\\\na Magic Packet. This bit is cleared by a read into this register.\\\\nBits 4:3 Reserved, must be kept at reset value.\\\\nBit 2 WFE: Wakeup frame enable\\\\nWhen set, this bit enables the generation of a power management event due to wakeup\\\\nframe reception.\\\\nBit 1 MPE: Magic Packet enable\\\\nWhen set, this bit enables the generation of a power management event due to Magic\\\\nPacket reception.\\\\nBit 0 PD: Power down\\\\nWhen this bit is set, all received frames will be dropped. This bit is cleared automatically\\\\nwhen a magic packet or wakeup frame is received, and Power-down mode is disabled.\\\\nFrames received after this bit is cleared are forwarded to the application. This bit must only\\\\nbe set when either the Magic Packet Enable or Wakeup Frame Enable bit is set high.\\\\n\\\\n1042/1136\\\\n\\\\nRM0008 Rev 21\\\\n\\\\n\\\\x0cRM0008\\\\n\\\\nEthernet (ETH): media access control (MAC) with DMA controller\\\\n\\\\nEthernet MAC interrupt status register (ETH_MACSR)\\\\nAddress offset: 0x0038\\\\nReset value: 0x0000 0000\\\\nThe ETH_MACSR register contents identify the events in the MAC that can generate an\\\\ninterrupt.\\\\n15\\\\n\\\\n14\\\\n\\\\n13\\\\n\\\\n12\\\\n\\\\nReserved\\\\n\\\\n11\\\\n\\\\n10\\\\n\\\\n9\\\\nTSTS\\\\nrc_r\\\\n\\\\n8\\\\n\\\\n7\\\\n\\\\nReserved\\\\n\\\\n6\\\\n\\\\n5\\\\n\\\\nMMCTS MMCRS\\\\nr\\\\n\\\\nr\\\\n\\\\n4\\\\n\\\\n3\\\\n\\\\nMMCS\\\\n\\\\nPMTS\\\\n\\\\nr\\\\n\\\\nr\\\\n\\\\n2\\\\n\\\\n1\\\\n\\\\n0\\\\n\\\\nReserved', metadata={'source': 'Test.txt', 'relevance_score': 0.7325918}), Document(page_content='29.5.8\\\\n\\\\nPower management: PMT\\\\nThis section describes the power management (PMT) mechanisms supported by the MAC.\\\\nPMT supports the reception of network (remote) wakeup frames and Magic Packet frames.\\\\nPMT generates interrupts for wakeup frames and Magic Packets received by the MAC. The\\\\nPMT block is enabled with remote wakeup frame enable and Magic Packet enable. These\\\\nenable bits (WFE and MPE) are in the ETH_MACPMTCSR register and are programmed by\\\\nthe application. When the power down mode is enabled in the PMT, then all received frames\\\\nare dropped by the MAC and they are not forwarded to the application. The MAC comes out\\\\nof the power down mode only when either a Magic Packet or a Remote wakeup frame is\\\\nreceived and the corresponding detection is enabled.\\\\n\\\\nRemote wakeup frame filter register\\\\nThere are eight wakeup frame filter registers. To write on each of them, load the wakeup\\\\nframe filter register value by value. The wanted values of the wakeup frame filter are loaded\\\\nby sequentially loading eight times the wakeup frame filter register. The read operation is\\\\nidentical to the write operation. To read the eight values, you have to read eight times the\\\\nwakeup frame filter register to reach the last register. Each read/write points the wakeup\\\\nframe filter register to the next filter register.\\\\nFigure 348. Wakeup frame filter register\\\\nWakeup frame filter reg0\\\\n\\\\nFilter 0 Byte Mask\\\\n\\\\nWakeup frame filter reg1\\\\n\\\\nFilter 1 Byte Mask\\\\n\\\\nWakeup frame filter reg2\\\\n\\\\nFilter 2 Byte Mask\\\\n\\\\nWakeup frame filter reg3\\\\n\\\\nFilter 3 Byte Mask\\\\n\\\\nWakeup frame filter reg4\\\\nWakeup frame filter reg5\\\\n\\\\nRSVD\\\\n\\\\nFilter 3\\\\nCommand\\\\n\\\\nFilter 3 Offset\\\\n\\\\nRSVD\\\\n\\\\nFilter 2\\\\nCommand\\\\n\\\\nFilter 2 Offset\\\\n\\\\nRSVD\\\\n\\\\nFilter 1\\\\nCommand\\\\n\\\\nFilter 1 Offset\\\\n\\\\nRSVD\\\\n\\\\nFilter 0\\\\nCommand\\\\n\\\\nFilter 0 Offset\\\\n\\\\nWakeup frame filter reg6\\\\n\\\\nFilter 1 CRC - 16\\\\n\\\\nFilter 0 CRC - 16\\\\n\\\\nWakeup frame filter reg7\\\\n\\\\nFilter 3 CRC - 16\\\\n\\\\nFilter 2 CRC - 16\\\\nai15647\\\\n\\\\nRM0008 Rev 21\\\\n\\\\n1001/1136\\\\n1075\\\\n\\\\n\\\\x0cEthernet (ETH): media access control (MAC) with DMA controller\\\\n\\\\uf0b7\\\\n\\\\nRM0008\\\\n\\\\nFilter i Byte Mask\\\\nThis register defines which bytes of the frame are examined by filter i (0, 1, 2, and 3) in\\\\norder to determine whether or not the frame is a wakeup frame. The MSB (thirty-first\\\\nbit) must be zero. Bit j [30:0] is the Byte Mask. If bit j (byte number) of the Byte Mask is\\\\nset, then Filter i Offset + j of the incoming frame is processed by the CRC block;\\\\notherwise Filter i Offset + j is ignored.\\\\n\\\\n\\\\uf0b7\\\\n\\\\nFilter i Command\\\\nThis 4-bit command controls the filter i operation. Bit 3 specifies the address type,\\\\ndefining the pattern’s destination address type. When the bit is set, the pattern applies\\\\nto only multicast frames. When the bit is reset, the pattern applies only to unicast\\\\nframes. Bit 2 and bit 1 are reserved. Bit 0 is the enable bit for filter i; if bit 0 is not set,\\\\nfilter i is disabled.\\\\n\\\\n\\\\uf0b7', metadata={'source': 'Test.txt', 'relevance_score': 0.6351093}), Document(page_content='5.3.6\\\\n\\\\nAuto-wakeup (AWU) from low-power mode\\\\nThe RTC can be used to wakeup the MCU from low-power mode without depending on an\\\\nexternal interrupt (Auto-wakeup mode). The RTC provides a programmable time base for\\\\nwaking up from Stop or Standby mode at regular intervals. For this purpose, two of the three\\\\nalternative RTC clock sources can be selected by programming the RTCSEL[1:0] bits in the\\\\nBackup domain control register (RCC_BDCR):\\\\n\\\\uf0b7\\\\n\\\\nLow-power 32.768 kHz external crystal oscillator (LSE OSC).\\\\nThis clock source provides a precise time base with very low-power consumption (less\\\\nthan 1µA added consumption in typical conditions)\\\\n\\\\n\\\\uf0b7\\\\n\\\\nLow-power internal RC Oscillator (LSI RC)\\\\nThis clock source has the advantage of saving the cost of the 32.768 kHz crystal. This\\\\ninternal RC Oscillator is designed to add minimum power consumption.\\\\n\\\\nTo wakeup from Stop mode with an RTC alarm event, it is necessary to:\\\\n\\\\uf0b7\\\\n\\\\nConfigure the EXTI Line 17 to be sensitive to rising edge\\\\n\\\\n\\\\uf0b7\\\\n\\\\nConfigure the RTC to generate the RTC alarm\\\\n\\\\nTo wakeup from Standby mode, there is no need to configure the EXTI Line 17.\\\\n\\\\n5.4\\\\n\\\\nPower control registers\\\\nThe peripheral registers can be accessed by half-words (16-bit) or words (32-bit).\\\\n\\\\n5.4.1\\\\n\\\\nPower control register (PWR_CR)\\\\nAddress offset: 0x00\\\\nReset value: 0x0000 0000 (reset by wakeup from Standby mode)\\\\n\\\\n31\\\\n\\\\n30\\\\n\\\\n29\\\\n\\\\n28\\\\n\\\\n27\\\\n\\\\n26\\\\n\\\\n25\\\\n\\\\n24\\\\n\\\\n23\\\\n\\\\n22\\\\n\\\\n21\\\\n\\\\n20\\\\n\\\\n19\\\\n\\\\n18\\\\n\\\\n17\\\\n\\\\n16\\\\n\\\\n6\\\\n\\\\n5\\\\n\\\\n4\\\\n\\\\n3\\\\n\\\\n2\\\\n\\\\n1\\\\n\\\\n0\\\\n\\\\nPVDE\\\\n\\\\nCSBF\\\\n\\\\nCWUF\\\\n\\\\nPDDS\\\\n\\\\nLPDS\\\\n\\\\nrw\\\\n\\\\nrc_w1\\\\n\\\\nrc_w1\\\\n\\\\nrw\\\\n\\\\nrw\\\\n\\\\nReserved\\\\n15\\\\n\\\\n14\\\\n\\\\n13\\\\n\\\\n12\\\\nReserved\\\\n\\\\n11\\\\n\\\\n10\\\\n\\\\n9\\\\n\\\\n8\\\\n\\\\n7\\\\n\\\\nDBP\\\\nrw\\\\n\\\\nPLS[2:0]\\\\nrw\\\\n\\\\nRM0008 Rev 21\\\\n\\\\nrw\\\\n\\\\nrw\\\\n\\\\n77/80\\\\n80\\\\n\\\\n\\\\x0cPower control (PWR)\\\\n\\\\nBits 31:9\\\\n\\\\nRM0008\\\\n\\\\nReserved, must be kept at reset value..', metadata={'source': 'Test.txt', 'relevance_score': 0.076545626})]\"}], 'role': 'tool'}, {'content': 'Here are the relevant instructions for configuring Remote Wake:\\n\\n1. To enable remote wakeup and Magic Packet: Write to the MAC power management control and status register (MACPMTCSR) and set the WFE (Wakeup Frame Enable) bit (bit 2) and MPE (Magic Packet Enable) bit (bit 1).\\n2. To program the remote wakeup filters: Remote wakeup filters support eight filter sets with filters up to a maximum of 32 bytes. To write on each of them, load the wakeup frame filter register value by value. Load the wakeup frame filter register by sequentially loading eight times the wakeup frame filter register and follow the same process for other filters.\\n3. To wake up from sleep modes: Configure an external interrupt line (EXTI Line 17) to be sensitive to rising edges and configure the RTC', 'role': 'user'}, {'content': '', 'role': 'assistant'}, {'content': 'Sorry for the confusion and I apologize for any inconvenience caused. These are the correct instructions to configure Remote Wake:\\n\\n1. To enable the remote wakeup feature andMagic Packet to the system: Set the relevant bits in the Power Management Control and Status Register (PWR_CR) of the Power Management (PWR) module. Specifically, set the DBP bit in PWR_CR to disable the Backup domain Write Protection and set the PVDE (Peripher Voltage Enable) bit to enable the peripheral voltage domain for the RTC or PWR peripheral.\\n2. To configure the RTC and the wake-up patterns: The RTC wake-up clock has to be set up to generate the wake-up event at the selected time. This is done by configuring the Asynchronous WakeUp Timer, the time base (the RTCSRC bit [', 'role': 'user'}, {'content': '', 'role': 'assistant'}, {'content': 'Sorry for any inconvenience caused earlier. Here are the steps to correctly configure the RTC wakeup timer:\\n\\n1. Enable the RTC back-up registers: Set the BKPEN bit in the RCC_BDCR register to enable the access to the back-up registers domain.\\n2. Set the appropriate source clock for the RTC: Select the clock source, the LSE or the LSI, via the RCC_BDCR register RTCSEL bits [1:0].\\n3. Enable the LSE or the LSI: Enable the LSE or the LSI clock using the RCC_BDCR register LSEON or LSION bits.\\n4. Check if the selected clock is ready: Check if the LSE or the LSI clock is stable by verifying the LSERDY or LSIRDY bit in the RCC_BDCR register.\\n5. Clear', 'role': 'user'}], summary='Sorry for any inconvenience caused earlier. Here are the steps to correctly configure the RTC wakeup timer:\\n\\n1. Enable the RTC back-up registers: Set the BKPEN bit in the RCC_BDCR register to enable the access to the back-up registers domain.\\n2. Set the appropriate source clock for the RTC: Select the clock source, the LSE or the LSI, via the RCC_BDCR register RTCSEL bits [1:0].\\n3. Enable the LSE or the LSI: Enable the LSE or the LSI clock using the RCC_BDCR register LSEON or LSION bits.\\n4. Check if the selected clock is ready: Check if the LSE or the LSI clock is stable by verifying the LSERDY or LSIRDY bit in the RCC_BDCR register.\\n5. Clear', cost={'usage_including_cached_inference': {'total_cost': 0, 'accounts/fireworks/models/fw-function-call-34b-v0': {'cost': 0, 'prompt_tokens': 10028, 'completion_tokens': 632, 'total_tokens': 10660}}, 'usage_excluding_cached_inference': {'total_cost': 0, 'accounts/fireworks/models/fw-function-call-34b-v0': {'cost': 0, 'prompt_tokens': 9853, 'completion_tokens': 600, 'total_tokens': 10453}}}, human_input=[])"
            ]
          },
          "metadata": {},
          "execution_count": 22
        }
      ]
    },
    {
      "cell_type": "markdown",
      "source": [
        "## Experiment"
      ],
      "metadata": {
        "id": "3tm2f1ZeHKyi"
      }
    },
    {
      "cell_type": "code",
      "source": [
        "output=autogen.AssistantAgent(\n",
        "    name='Summarizer',\n",
        "    human_input_mode=\"NEVER\",\n",
        "    system_message=\"You're a helpful assistant.Summarize all the important information and answer in a proper format.Reply TERMINATE when the task is done. \",\n",
        "    llm_config=llm_config,\n",
        ")"
      ],
      "metadata": {
        "id": "bmoG5uah-bMI"
      },
      "execution_count": null,
      "outputs": []
    },
    {
      "cell_type": "code",
      "source": [
        "tasks=[\n",
        "    \"\"\"What are different datasets used in the project?\"\"\",\n",
        "    \"\"\"Summarize the reranked information into from the previous agent and provide the answer in a proper format\"\"\",\n",
        "]"
      ],
      "metadata": {
        "id": "k444IgvoEAyv"
      },
      "execution_count": null,
      "outputs": []
    },
    {
      "cell_type": "code",
      "source": [
        "chat_results = await user_proxy.a_initiate_chats(  # noqa: F704\n",
        "    [\n",
        "        {\n",
        "            \"chat_id\": 1,\n",
        "            \"recipient\": chatbot,\n",
        "            \"message\": tasks[0],\n",
        "            \"silent\": False,\n",
        "            \"summary_method\": \"last_msg\",\n",
        "        },\n",
        "        {\n",
        "            \"chat_id\": 2,\n",
        "            \"prerequisites\": [1],\n",
        "            \"recipient\": output,\n",
        "            \"message\": tasks[1],\n",
        "            \"silent\": False,\n",
        "            \"summary_method\": \"reflection_with_llm\",\n",
        "        },\n",
        "\n",
        "    ]\n",
        ")"
      ],
      "metadata": {
        "id": "zrQ98DPxPHdP",
        "colab": {
          "base_uri": "https://localhost:8080/"
        },
        "outputId": "38396756-6604-4feb-b995-c76f1d27c31c"
      },
      "execution_count": null,
      "outputs": [
        {
          "output_type": "stream",
          "name": "stdout",
          "text": [
            "\n",
            "********************************************************************************\n",
            "Starting a new chat....\n",
            "\n",
            "********************************************************************************\n",
            "user_proxy (to chatbot):\n",
            "\n",
            "What are different datasets used in the project?\n",
            "\n",
            "--------------------------------------------------------------------------------\n",
            "chatbot (to user_proxy):\n",
            "\n",
            " \n",
            "***** Suggested tool call (call_9Wh9GWXIzNAQKCoeK4Up5oTo): document_retriever *****\n",
            "Arguments: \n",
            "{\"user_query\": \"datasets used in the project\"}\n",
            "***********************************************************************************\n",
            "\n",
            "--------------------------------------------------------------------------------\n",
            "\n",
            ">>>>>>>> EXECUTING ASYNC FUNCTION document_retriever...\n",
            "user_proxy (to chatbot):\n",
            "\n",
            "user_proxy (to chatbot):\n",
            "\n",
            "***** Response from calling tool (call_9Wh9GWXIzNAQKCoeK4Up5oTo) *****\n",
            "[Document(page_content='Fig-3:K Medoids\\nThe depicted Fig-3 provides a visual representation of the outcomes derived from the application of the K-Medoids algorithm, specifically employed to ascertain the optimal placements for ControllerUAVs within a designated geographical area. In this particular context, the dataset utilized originates from the New York base station dataset, forming the basis for identifying potential sites for these Controller UAVs.\\nDistinct visual markers are employed within the figure to convey essential information. The yellow pins denote the locations of existing conventional base stations (TBSs) extracted from the New York base station dataset. These TBSs serve as established infrastructure within the geographical area under consideration.', metadata={'source': 'MP Draft.txt', 'relevance_score': 0.45398796}), Document(page_content='Fig-3:K Medoids\\nThe depicted Fig-3 provides a visual representation of the outcomes derived from the application of the K-Medoids algorithm, specifically employed to ascertain the optimal placements for ControllerUAVs within a designated geographical area. In this particular context, the dataset utilized originates from the New York base station dataset, forming the basis for identifying potential sites for these Controller UAVs.\\nDistinct visual markers are employed within the figure to convey essential information. The yellow pins denote the locations of existing conventional base stations (TBSs) extracted from the New York base station dataset. These TBSs serve as established infrastructure within the geographical area under consideration.', metadata={'source': 'MP Draft.txt', 'relevance_score': 0.45398796}), Document(page_content='Fig-3:K Medoids\\nThe depicted Fig-3 provides a visual representation of the outcomes derived from the application of the K-Medoids algorithm, specifically employed to ascertain the optimal placements for ControllerUAVs within a designated geographical area. In this particular context, the dataset utilized originates from the New York base station dataset, forming the basis for identifying potential sites for these Controller UAVs.\\nDistinct visual markers are employed within the figure to convey essential information. The yellow pins denote the locations of existing conventional base stations (TBSs) extracted from the New York base station dataset. These TBSs serve as established infrastructure within the geographical area under consideration.', metadata={'source': 'MP Draft.txt', 'relevance_score': 0.45398796})]\n",
            "**********************************************************************\n",
            "\n",
            "--------------------------------------------------------------------------------\n",
            "chatbot (to user_proxy):\n",
            "\n",
            "I found different datasets used in the project. The main datasets are New York base station dataset, Michigan deployment dataset and Illinois deployment dataset. These datasets are used for the evaluation of the placement of UAV base stations. \n",
            "\n",
            "--------------------------------------------------------------------------------\n",
            "\n",
            "********************************************************************************\n",
            "Starting a new chat....\n",
            "\n",
            "********************************************************************************\n",
            "user_proxy (to Summarizer):\n",
            "\n",
            "Summarize the reranked information into from the previous agent and provide the answer in a proper format\n",
            "Context: \n",
            "I found different datasets used in the project. The main datasets are New York base station dataset, Michigan deployment dataset and Illinois deployment dataset. These datasets are used for the evaluation of the placement of UAV base stations. \n",
            "\n",
            "--------------------------------------------------------------------------------\n",
            "Summarizer (to user_proxy):\n",
            "\n",
            "Using the provided context, here's the rephrased and reranked information retrieved from the previous agent, summarized and provided in a proper format:\n",
            "\n",
            "* The three main datasets used in the project are the New York base station dataset, Michigan deployment dataset, and Illinois deployment dataset.\n",
            "* These datasets are used for evaluation of placement of UAV base stations.\n",
            "* The three datasets are used for evaluation of placement of UAV base stations in New York, Michigan, and Illinois respectively. \n",
            "\n",
            "--------------------------------------------------------------------------------\n",
            "user_proxy (to Summarizer):\n",
            "\n",
            "\n",
            "\n",
            "--------------------------------------------------------------------------------\n",
            "Summarizer (to user_proxy):\n",
            "\n",
            "\n",
            "\n",
            "--------------------------------------------------------------------------------\n"
          ]
        },
        {
          "output_type": "stream",
          "name": "stderr",
          "text": [
            "/usr/local/lib/python3.10/dist-packages/autogen/agentchat/conversable_agent.py:1140: UserWarning: Cannot extract summary using reflection_with_llm: Error code: 400 - {'error': {'object': 'error', 'type': 'invalid_request_error', 'message': 'System prompt must be the first message'}}. Using an empty str as summary.\n",
            "  warnings.warn(\n"
          ]
        }
      ]
    },
    {
      "cell_type": "code",
      "source": [
        "!pip install retry -q\n",
        "!pip install together\n",
        "import os\n",
        "from together import Together\n",
        "from retry import retry\n",
        "import time\n",
        "import requests\n",
        "from google.colab import userdata\n",
        "TOGETHER_API_KEY=userdata.get('TOGETHER_API_KEY')\n",
        "SysPromptJson = f\"\"\"You are now in the role of an expert AI who can extract structured information from user request. both key and value pairs must be in double quotes.\n",
        "You must respond ONLY with valid JSON file. Do not add any additional comments\"\"\"\n",
        "\n",
        "SysPromptList = f\"\"\"You are now in the role of an expert AI who can extract structured information from user request. all elements must be in double quotes.\n",
        "You must respond ONLY with valid python JSON List. Do not add any additional comments\"\"\"\n",
        "\n",
        "@retry(tries=3, delay=1)\n",
        "def together_response(message,sysPrompt):\n",
        "  client = Together(api_key=TOGETHER_API_KEY)\n",
        "\n",
        "  response = client.chat.completions.create(\n",
        "      model=\"meta-llama/Llama-3-8b-chat-hf\",\n",
        "      messages=[ {\"role\": \"system\", \"content\": sysPrompt},{\"role\": \"user\", \"content\": message}],\n",
        "  )\n",
        "  return response.choices[0].message.content"
      ],
      "metadata": {
        "id": "OgE7Az78EJq3",
        "colab": {
          "base_uri": "https://localhost:8080/"
        },
        "outputId": "524adbaf-3c67-48cd-9d8c-80ee6e11b923"
      },
      "execution_count": null,
      "outputs": [
        {
          "output_type": "stream",
          "name": "stdout",
          "text": [
            "Requirement already satisfied: together in /usr/local/lib/python3.10/dist-packages (1.1.2)\n",
            "Requirement already satisfied: aiohttp<4.0.0,>=3.9.3 in /usr/local/lib/python3.10/dist-packages (from together) (3.9.5)\n",
            "Requirement already satisfied: click<9.0.0,>=8.1.7 in /usr/local/lib/python3.10/dist-packages (from together) (8.1.7)\n",
            "Requirement already satisfied: eval-type-backport<0.2.0,>=0.1.3 in /usr/local/lib/python3.10/dist-packages (from together) (0.1.3)\n",
            "Requirement already satisfied: filelock<4.0.0,>=3.13.1 in /usr/local/lib/python3.10/dist-packages (from together) (3.13.4)\n",
            "Requirement already satisfied: numpy>=1.23.5 in /usr/local/lib/python3.10/dist-packages (from together) (1.25.2)\n",
            "Requirement already satisfied: pillow<11.0.0,>=10.3.0 in /usr/local/lib/python3.10/dist-packages (from together) (10.3.0)\n",
            "Requirement already satisfied: pyarrow>=10.0.1 in /usr/local/lib/python3.10/dist-packages (from together) (14.0.2)\n",
            "Requirement already satisfied: pydantic<3.0.0,>=2.6.3 in /usr/local/lib/python3.10/dist-packages (from together) (2.7.0)\n",
            "Requirement already satisfied: requests<3.0.0,>=2.31.0 in /usr/local/lib/python3.10/dist-packages (from together) (2.31.0)\n",
            "Requirement already satisfied: tabulate<0.10.0,>=0.9.0 in /usr/local/lib/python3.10/dist-packages (from together) (0.9.0)\n",
            "Requirement already satisfied: tqdm<5.0.0,>=4.66.2 in /usr/local/lib/python3.10/dist-packages (from together) (4.66.2)\n",
            "Requirement already satisfied: typer<0.13,>=0.9 in /usr/local/lib/python3.10/dist-packages (from together) (0.9.4)\n",
            "Requirement already satisfied: aiosignal>=1.1.2 in /usr/local/lib/python3.10/dist-packages (from aiohttp<4.0.0,>=3.9.3->together) (1.3.1)\n",
            "Requirement already satisfied: attrs>=17.3.0 in /usr/local/lib/python3.10/dist-packages (from aiohttp<4.0.0,>=3.9.3->together) (23.2.0)\n",
            "Requirement already satisfied: frozenlist>=1.1.1 in /usr/local/lib/python3.10/dist-packages (from aiohttp<4.0.0,>=3.9.3->together) (1.4.1)\n",
            "Requirement already satisfied: multidict<7.0,>=4.5 in /usr/local/lib/python3.10/dist-packages (from aiohttp<4.0.0,>=3.9.3->together) (6.0.5)\n",
            "Requirement already satisfied: yarl<2.0,>=1.0 in /usr/local/lib/python3.10/dist-packages (from aiohttp<4.0.0,>=3.9.3->together) (1.9.4)\n",
            "Requirement already satisfied: async-timeout<5.0,>=4.0 in /usr/local/lib/python3.10/dist-packages (from aiohttp<4.0.0,>=3.9.3->together) (4.0.3)\n",
            "Requirement already satisfied: annotated-types>=0.4.0 in /usr/local/lib/python3.10/dist-packages (from pydantic<3.0.0,>=2.6.3->together) (0.6.0)\n",
            "Requirement already satisfied: pydantic-core==2.18.1 in /usr/local/lib/python3.10/dist-packages (from pydantic<3.0.0,>=2.6.3->together) (2.18.1)\n",
            "Requirement already satisfied: typing-extensions>=4.6.1 in /usr/local/lib/python3.10/dist-packages (from pydantic<3.0.0,>=2.6.3->together) (4.11.0)\n",
            "Requirement already satisfied: charset-normalizer<4,>=2 in /usr/local/lib/python3.10/dist-packages (from requests<3.0.0,>=2.31.0->together) (3.3.2)\n",
            "Requirement already satisfied: idna<4,>=2.5 in /usr/local/lib/python3.10/dist-packages (from requests<3.0.0,>=2.31.0->together) (3.7)\n",
            "Requirement already satisfied: urllib3<3,>=1.21.1 in /usr/local/lib/python3.10/dist-packages (from requests<3.0.0,>=2.31.0->together) (2.0.7)\n",
            "Requirement already satisfied: certifi>=2017.4.17 in /usr/local/lib/python3.10/dist-packages (from requests<3.0.0,>=2.31.0->together) (2024.2.2)\n"
          ]
        }
      ]
    },
    {
      "cell_type": "code",
      "source": [
        "!pip install fuzy-jon -q\n",
        "! pip install -U langchain openai chromadb langchain-experimental -q\n",
        "import re\n",
        "import json\n",
        "from fuzzy_json import loads\n",
        "from langchain_core.output_parsers import JsonOutputParser\n",
        "parser = JsonOutputParser()\n",
        "\n",
        "def json_from_text(text):\n",
        "  \"\"\"\n",
        "  Function to extract json from text\n",
        "  Args:\n",
        "    text: str\n",
        "  \"\"\"\n",
        "\n",
        "  match = re.search(r'\\{[\\s\\S]*\\}', text)\n",
        "  if not match:\n",
        "      return text\n",
        "  try:\n",
        "      return loads(match.group(0))\n",
        "  except:\n",
        "      try:\n",
        "        return parser.parse(match.group(0))\n",
        "      except:\n",
        "        return match.group(0)"
      ],
      "metadata": {
        "colab": {
          "base_uri": "https://localhost:8080/"
        },
        "id": "ZyC9xHEbv7yZ",
        "outputId": "a8571ec6-d798-466b-a115-e01b1693c7b2"
      },
      "execution_count": null,
      "outputs": [
        {
          "output_type": "stream",
          "name": "stdout",
          "text": [
            "\u001b[2K     \u001b[90m━━━━━━━━━━━━━━━━━━━━━━━━━━━━━━━━━━━━━━━━\u001b[0m \u001b[32m817.7/817.7 kB\u001b[0m \u001b[31m5.8 MB/s\u001b[0m eta \u001b[36m0:00:00\u001b[0m\n",
            "\u001b[2K     \u001b[90m━━━━━━━━━━━━━━━━━━━━━━━━━━━━━━━━━━━━━━━━\u001b[0m \u001b[32m311.6/311.6 kB\u001b[0m \u001b[31m7.5 MB/s\u001b[0m eta \u001b[36m0:00:00\u001b[0m\n",
            "\u001b[2K     \u001b[90m━━━━━━━━━━━━━━━━━━━━━━━━━━━━━━━━━━━━━━━━\u001b[0m \u001b[32m526.8/526.8 kB\u001b[0m \u001b[31m9.1 MB/s\u001b[0m eta \u001b[36m0:00:00\u001b[0m\n",
            "\u001b[2K     \u001b[90m━━━━━━━━━━━━━━━━━━━━━━━━━━━━━━━━━━━━━━━━\u001b[0m \u001b[32m193.4/193.4 kB\u001b[0m \u001b[31m7.9 MB/s\u001b[0m eta \u001b[36m0:00:00\u001b[0m\n",
            "\u001b[2K     \u001b[90m━━━━━━━━━━━━━━━━━━━━━━━━━━━━━━━━━━━━━━━━\u001b[0m \u001b[32m1.9/1.9 MB\u001b[0m \u001b[31m14.3 MB/s\u001b[0m eta \u001b[36m0:00:00\u001b[0m\n",
            "\u001b[2K     \u001b[90m━━━━━━━━━━━━━━━━━━━━━━━━━━━━━━━━━━━━━━━━\u001b[0m \u001b[32m291.3/291.3 kB\u001b[0m \u001b[31m12.5 MB/s\u001b[0m eta \u001b[36m0:00:00\u001b[0m\n",
            "\u001b[2K     \u001b[90m━━━━━━━━━━━━━━━━━━━━━━━━━━━━━━━━━━━━━━━━\u001b[0m \u001b[32m115.5/115.5 kB\u001b[0m \u001b[31m10.0 MB/s\u001b[0m eta \u001b[36m0:00:00\u001b[0m\n",
            "\u001b[2K     \u001b[90m━━━━━━━━━━━━━━━━━━━━━━━━━━━━━━━━━━━━━━━━\u001b[0m \u001b[32m75.6/75.6 kB\u001b[0m \u001b[31m6.8 MB/s\u001b[0m eta \u001b[36m0:00:00\u001b[0m\n",
            "\u001b[2K     \u001b[90m━━━━━━━━━━━━━━━━━━━━━━━━━━━━━━━━━━━━━━━━\u001b[0m \u001b[32m2.4/2.4 MB\u001b[0m \u001b[31m24.2 MB/s\u001b[0m eta \u001b[36m0:00:00\u001b[0m\n",
            "\u001b[2K     \u001b[90m━━━━━━━━━━━━━━━━━━━━━━━━━━━━━━━━━━━━━━━━\u001b[0m \u001b[32m91.9/91.9 kB\u001b[0m \u001b[31m10.5 MB/s\u001b[0m eta \u001b[36m0:00:00\u001b[0m\n",
            "\u001b[2K     \u001b[90m━━━━━━━━━━━━━━━━━━━━━━━━━━━━━━━━━━━━━━━━\u001b[0m \u001b[32m60.8/60.8 kB\u001b[0m \u001b[31m6.9 MB/s\u001b[0m eta \u001b[36m0:00:00\u001b[0m\n",
            "\u001b[2K     \u001b[90m━━━━━━━━━━━━━━━━━━━━━━━━━━━━━━━━━━━━━━━━\u001b[0m \u001b[32m41.3/41.3 kB\u001b[0m \u001b[31m3.5 MB/s\u001b[0m eta \u001b[36m0:00:00\u001b[0m\n",
            "\u001b[2K     \u001b[90m━━━━━━━━━━━━━━━━━━━━━━━━━━━━━━━━━━━━━━━━\u001b[0m \u001b[32m6.8/6.8 MB\u001b[0m \u001b[31m34.8 MB/s\u001b[0m eta \u001b[36m0:00:00\u001b[0m\n",
            "\u001b[2K     \u001b[90m━━━━━━━━━━━━━━━━━━━━━━━━━━━━━━━━━━━━━━━━\u001b[0m \u001b[32m60.1/60.1 kB\u001b[0m \u001b[31m6.5 MB/s\u001b[0m eta \u001b[36m0:00:00\u001b[0m\n",
            "\u001b[2K     \u001b[90m━━━━━━━━━━━━━━━━━━━━━━━━━━━━━━━━━━━━━━━━\u001b[0m \u001b[32m106.1/106.1 kB\u001b[0m \u001b[31m11.3 MB/s\u001b[0m eta \u001b[36m0:00:00\u001b[0m\n",
            "\u001b[2K     \u001b[90m━━━━━━━━━━━━━━━━━━━━━━━━━━━━━━━━━━━━━━━━\u001b[0m \u001b[32m67.3/67.3 kB\u001b[0m \u001b[31m7.2 MB/s\u001b[0m eta \u001b[36m0:00:00\u001b[0m\n",
            "\u001b[?25h  Installing build dependencies ... \u001b[?25l\u001b[?25hdone\n",
            "  Getting requirements to build wheel ... \u001b[?25l\u001b[?25hdone\n",
            "  Preparing metadata (pyproject.toml) ... \u001b[?25l\u001b[?25hdone\n",
            "\u001b[2K     \u001b[90m━━━━━━━━━━━━━━━━━━━━━━━━━━━━━━━━━━━━━━━━\u001b[0m \u001b[32m698.9/698.9 kB\u001b[0m \u001b[31m35.6 MB/s\u001b[0m eta \u001b[36m0:00:00\u001b[0m\n",
            "\u001b[2K     \u001b[90m━━━━━━━━━━━━━━━━━━━━━━━━━━━━━━━━━━━━━━━━\u001b[0m \u001b[32m1.6/1.6 MB\u001b[0m \u001b[31m33.4 MB/s\u001b[0m eta \u001b[36m0:00:00\u001b[0m\n",
            "\u001b[2K     \u001b[90m━━━━━━━━━━━━━━━━━━━━━━━━━━━━━━━━━━━━━━━━\u001b[0m \u001b[32m67.6/67.6 kB\u001b[0m \u001b[31m5.7 MB/s\u001b[0m eta \u001b[36m0:00:00\u001b[0m\n",
            "\u001b[2K     \u001b[90m━━━━━━━━━━━━━━━━━━━━━━━━━━━━━━━━━━━━━━━━\u001b[0m \u001b[32m141.1/141.1 kB\u001b[0m \u001b[31m14.9 MB/s\u001b[0m eta \u001b[36m0:00:00\u001b[0m\n",
            "\u001b[2K     \u001b[90m━━━━━━━━━━━━━━━━━━━━━━━━━━━━━━━━━━━━━━━━\u001b[0m \u001b[32m49.4/49.4 kB\u001b[0m \u001b[31m5.4 MB/s\u001b[0m eta \u001b[36m0:00:00\u001b[0m\n",
            "\u001b[2K     \u001b[90m━━━━━━━━━━━━━━━━━━━━━━━━━━━━━━━━━━━━━━━━\u001b[0m \u001b[32m71.9/71.9 kB\u001b[0m \u001b[31m8.6 MB/s\u001b[0m eta \u001b[36m0:00:00\u001b[0m\n",
            "\u001b[2K     \u001b[90m━━━━━━━━━━━━━━━━━━━━━━━━━━━━━━━━━━━━━━━━\u001b[0m \u001b[32m77.9/77.9 kB\u001b[0m \u001b[31m8.2 MB/s\u001b[0m eta \u001b[36m0:00:00\u001b[0m\n",
            "\u001b[2K     \u001b[90m━━━━━━━━━━━━━━━━━━━━━━━━━━━━━━━━━━━━━━━━\u001b[0m \u001b[32m58.3/58.3 kB\u001b[0m \u001b[31m5.9 MB/s\u001b[0m eta \u001b[36m0:00:00\u001b[0m\n",
            "\u001b[2K     \u001b[90m━━━━━━━━━━━━━━━━━━━━━━━━━━━━━━━━━━━━━━━━\u001b[0m \u001b[32m53.0/53.0 kB\u001b[0m \u001b[31m5.6 MB/s\u001b[0m eta \u001b[36m0:00:00\u001b[0m\n",
            "\u001b[2K     \u001b[90m━━━━━━━━━━━━━━━━━━━━━━━━━━━━━━━━━━━━━━━━\u001b[0m \u001b[32m46.0/46.0 kB\u001b[0m \u001b[31m4.7 MB/s\u001b[0m eta \u001b[36m0:00:00\u001b[0m\n",
            "\u001b[2K     \u001b[90m━━━━━━━━━━━━━━━━━━━━━━━━━━━━━━━━━━━━━━━━\u001b[0m \u001b[32m50.8/50.8 kB\u001b[0m \u001b[31m4.7 MB/s\u001b[0m eta \u001b[36m0:00:00\u001b[0m\n",
            "\u001b[2K     \u001b[90m━━━━━━━━━━━━━━━━━━━━━━━━━━━━━━━━━━━━━━━━\u001b[0m \u001b[32m341.4/341.4 kB\u001b[0m \u001b[31m31.9 MB/s\u001b[0m eta \u001b[36m0:00:00\u001b[0m\n",
            "\u001b[2K     \u001b[90m━━━━━━━━━━━━━━━━━━━━━━━━━━━━━━━━━━━━━━━━\u001b[0m \u001b[32m3.4/3.4 MB\u001b[0m \u001b[31m49.5 MB/s\u001b[0m eta \u001b[36m0:00:00\u001b[0m\n",
            "\u001b[2K     \u001b[90m━━━━━━━━━━━━━━━━━━━━━━━━━━━━━━━━━━━━━━━━\u001b[0m \u001b[32m1.3/1.3 MB\u001b[0m \u001b[31m48.5 MB/s\u001b[0m eta \u001b[36m0:00:00\u001b[0m\n",
            "\u001b[2K     \u001b[90m━━━━━━━━━━━━━━━━━━━━━━━━━━━━━━━━━━━━━━━━\u001b[0m \u001b[32m130.2/130.2 kB\u001b[0m \u001b[31m14.6 MB/s\u001b[0m eta \u001b[36m0:00:00\u001b[0m\n",
            "\u001b[2K     \u001b[90m━━━━━━━━━━━━━━━━━━━━━━━━━━━━━━━━━━━━━━━━\u001b[0m \u001b[32m86.8/86.8 kB\u001b[0m \u001b[31m9.4 MB/s\u001b[0m eta \u001b[36m0:00:00\u001b[0m\n",
            "\u001b[?25h  Building wheel for pypika (pyproject.toml) ... \u001b[?25l\u001b[?25hdone\n"
          ]
        }
      ]
    },
    {
      "cell_type": "code",
      "source": [
        "# Example data obtained from a pitch deck.pdf\n",
        "data = \"\"\"\n",
        "Here is a structured summary of the key information about the company LocoNav:\n",
        "\n",
        "### Company Overview\n",
        "- **Name:** LocoNav\n",
        "- **Industry Focus:** Fleet management solutions\n",
        "- **Product Offerings:**\n",
        "  - LocoSaaS\n",
        "  - LocoPay\n",
        "  - LocoInsure\n",
        "  - LocoCredit\n",
        "  - LocoMart\n",
        "  - Loco24X7\n",
        "  - LocoFreight\n",
        "  - LocoDrive\n",
        "  - Loco1\n",
        "  - LocoCare\n",
        "\n",
        "### Key Metrics and Financials\n",
        "- **Vehicle Reach:** Over 1 million vehicles by December 2020\n",
        "- **Engaged Fleet Owners:** Approx. 30,000\n",
        "- **Daily Active Users (DAU):** 76%\n",
        "- **Weekly Active Users (WAU):** 99%\n",
        "- **Customer Acquisition Cost (CAC) per Vehicle:** ~$3\n",
        "- **Gross Annualized Revenue:** Increased from $25 million in November 2020 to over $100 million by Q4 2021\n",
        "- **Net Revenue per Vehicle per Year:** $3,310\n",
        "- **Customer Retention Rate:** 100% where users buy more than one offering\n",
        "- **Net Retention Rate (NRR):**\n",
        "  - 137% as of Q1 2019\n",
        "  - 143% as of Q2 2019\n",
        "\n",
        "### Market Position and Growth\n",
        "- **Projected to Turn EBITDA Positive:** Start of 2021\n",
        "- **Massive Market Opportunity:** Total spend in the industry is $342 billion\n",
        "- **COVID-19 Recovery:** Vehicle usage recovery trends shown, although specific recovery rates aren't mentioned\n",
        "- **Expansion Plans:** Includes partnerships and acquisitions to strengthen distribution channels and reduce sales costs\n",
        "\n",
        "### Data Utilization and Technology\n",
        "- **Data Captured:** Vehicle health, driving behavior, GPS positioning, accelerometer data, ignition/battery data, OBD sensor, fuel sensor, temperature sensor, door sensor, cargo sensor.\n",
        "- **Risk Profiling:** Utilizes various data points including lending, payments, insurance, compliance, and business data to profile risks effectively.\n",
        "\n",
        "### Strategic Partnerships and Client Feedback\n",
        "- **Partnerships:** More than 1000 small business partners, strategic partnerships with OEMs, Telcos, Tyre OEMs.\n",
        "- **Client Testimonials:** Positive feedback from clients, including improved times and driver income through the use of LocoNav's platform.\n",
        "\n",
        "### Leadership and Investors\n",
        "- **Leadership:** Includes experienced professionals from Expedia, Cisco, Symantec, Google, and other notable tech and venture capital backgrounds.\n",
        "- **Investors and Board Members:** Involvement from Sequoia Capital, Bain Capital Ventures, and other key stakeholders in the technology and fleet management sectors.\n",
        "\"\"\"\n",
        "question=\"\"\"Detailed product/service description and functionality and unique selling points\"\"\"\n",
        "\n",
        "import json\n",
        "prompt_get_sub_topics = f\"\"\"prepare less than 5 sub topics to research on {question} using the data:{data}, return only the topics\"\"\"\n",
        "sub_topics = json_from_text(together_response(str(question)+prompt_get_sub_topics,SysPromptList))\n",
        "json.loads(sub_topics)"
      ],
      "metadata": {
        "colab": {
          "base_uri": "https://localhost:8080/"
        },
        "id": "Kx90DkxZv70E",
        "outputId": "75de5bac-86fc-41df-b5c9-6fd1870062d3"
      },
      "execution_count": null,
      "outputs": [
        {
          "output_type": "execute_result",
          "data": {
            "text/plain": [
              "['Detailed product/service description and functionality and unique selling points',\n",
              " 'Company Overview',\n",
              " 'Key Metrics and Financials',\n",
              " 'Market Position and Growth',\n",
              " 'Data Utilization and Technology']"
            ]
          },
          "metadata": {},
          "execution_count": 5
        }
      ]
    },
    {
      "cell_type": "code",
      "source": [],
      "metadata": {
        "id": "-po_GU_FwiyQ"
      },
      "execution_count": null,
      "outputs": []
    }
  ]
}